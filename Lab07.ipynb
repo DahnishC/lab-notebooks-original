{
  "cells": [
    {
      "cell_type": "markdown",
      "metadata": {
        "id": "mcJxOTLyi8zs"
      },
      "source": [
        "<a href=\"https://colab.research.google.com/github/LMU-CMSI-1010/lab-notebooks-original/blob/main/Lab07.ipynb\" target=\"_parent\"><img src=\"https://colab.research.google.com/assets/colab-badge.svg\" alt=\"Open In Colab\"/></a>"
      ]
    },
    {
      "cell_type": "markdown",
      "metadata": {
        "id": "9aXfrLXg9seM"
      },
      "source": [
        "# Lab 07 Making a List\n",
        "In this lab you will practice working with lists.\n",
        "\n",
        "## Sorting cities\n",
        "\n",
        "In the following cell, **complete the function `sorted_cities` that, given a string with the names of cities separated by commas, prints a list of the cities in sorted order.** This function returns `None`.\n",
        "\n"
      ]
    },
    {
      "cell_type": "code",
      "execution_count": 3,
      "metadata": {
        "id": "Rt0kFDWS9RJU",
        "outputId": "d8ba169d-3680-4cf2-e70a-766955264930",
        "colab": {
          "base_uri": "https://localhost:8080/"
        }
      },
      "outputs": [
        {
          "output_type": "stream",
          "name": "stdout",
          "text": [
            "Boston\n",
            "Chicago\n",
            "Indianapolis\n",
            "San Francisco\n",
            "Birminghan\n",
            "Boston\n",
            "Bradford\n",
            "Chicago\n"
          ]
        }
      ],
      "source": [
        "# TODO: sorted_cities is given a string of city names separated by commas\n",
        "# and prints out the names in sorted order. It returns None\n",
        "def sorted_cities(city_names):\n",
        "    \n",
        "    #Here the Spilt Method converts the Strings to an Array\n",
        "\n",
        "    cities = city_names.split(',')\n",
        "\n",
        "    # .sort() Sort the Array in the Sorted Manner\n",
        "    cities.sort()\n",
        "\n",
        "    #For loop to loop through each array value and print it\n",
        "    for city in cities:\n",
        "      print(city)\n",
        "    pass\n",
        "    \n",
        "\n",
        "# Debugging function calls. You can add more or change\n",
        "# The following should print Boston, Chicago Indianapolis\n",
        "# and San Francisco in that order each city on a new line\n",
        "sorted_cities('San Francisco,Boston,Chicago,Indianapolis')\n",
        "\n",
        "#Another enty\n",
        "sorted_cities('Bradford,Boston,Chicago,Birminghan')\n",
        "\n"
      ]
    },
    {
      "cell_type": "markdown",
      "metadata": {
        "id": "y2c-tRWA91fr"
      },
      "source": [
        "## Same but Different Order?\n",
        "In the following cell, **complete the function `is_permutation` that, given two lists of integers, returns `True` if and only if both lists contain the same integers but in possibly different orders**. (*Challenge: Does it matter if the code you write is passed lists that are not integers?*)"
      ]
    },
    {
      "cell_type": "code",
      "execution_count": 4,
      "metadata": {
        "id": "NMcvm3E4-sl_"
      },
      "outputs": [],
      "source": [
        "# TODO: is_permutation is given two lists and returns True\n",
        "# if lists contain the same elements, possibly in different orders,\n",
        "# and False otherwise\n",
        "def is_permutation(list1, list2):\n",
        "    \n",
        "    # Check if the Length of the two list are same if not then return false\n",
        "    if len(list1) != len(list2):\n",
        "        return False\n",
        "\n",
        "    # we Sort both arrays and then check each element\n",
        "    list1 = sorted(list1)\n",
        "    list2 = sorted(list2)\n",
        "    for i in range(len(list1)):\n",
        "        if list1[i] != list2[i]:\n",
        "            return False\n",
        "    return True\n",
        "    \n",
        "\n",
        "\n",
        "# Below is our test code. Do not modify it, but you may add your own prints.\n",
        "assert(is_permutation([1, 2, 3], [3, 1, 2]) == True) \n",
        "assert(is_permutation([1, 1, 1, 2],[1, 2, 1, 1]) == True)\n",
        "assert(is_permutation([1, 2, 3, 1], [1, 2, 3]) == False)\n",
        "assert(is_permutation([1, 1, 2, 3], [1, 3, 2, 2]) == False)"
      ]
    },
    {
      "cell_type": "markdown",
      "metadata": {
        "id": "zXC7orYI_T3E"
      },
      "source": [
        "## Optional Challenge: Tic Tac Toe\n",
        "In the following cell, you will work towards **implementing a tic tac toe game that uses lists of lists. You will create boards and check if player X or player O has won.**\n"
      ]
    },
    {
      "cell_type": "code",
      "execution_count": 6,
      "metadata": {
        "id": "fpq9XjRC_TJG",
        "outputId": "a5fea520-2018-43bb-8283-155418019f50",
        "colab": {
          "base_uri": "https://localhost:8080/"
        }
      },
      "outputs": [
        {
          "output_type": "stream",
          "name": "stdout",
          "text": [
            "['_', '_', '_']\n",
            "['_', '_', '_']\n",
            "['_', '_', '_']\n",
            "Player X's turn\n",
            "Enter row: 1\n",
            "Enter col: 1\n",
            "['_', '_', '_']\n",
            "['_', 'X', '_']\n",
            "['_', '_', '_']\n",
            "Player O's turn\n",
            "Enter row: 0\n",
            "Enter col: 1\n",
            "['_', 'O', '_']\n",
            "['_', 'X', '_']\n",
            "['_', '_', '_']\n",
            "Player X's turn\n",
            "Enter row: 2\n",
            "Enter col: 2\n",
            "['_', 'O', '_']\n",
            "['_', 'X', '_']\n",
            "['_', '_', 'X']\n",
            "Player O's turn\n",
            "Enter row: 0\n",
            "Enter col: 0\n",
            "['O', 'O', '_']\n",
            "['_', 'X', '_']\n",
            "['_', '_', 'X']\n",
            "Player X's turn\n",
            "Enter row: 0\n",
            "Enter col: 2\n",
            "['O', 'O', 'X']\n",
            "['_', 'X', '_']\n",
            "['_', '_', 'X']\n",
            "Player O's turn\n",
            "Enter row: 1\n",
            "Enter col: 0\n",
            "['O', 'O', 'X']\n",
            "['O', 'X', '_']\n",
            "['_', '_', 'X']\n",
            "Player X's turn\n",
            "Enter row: 1\n",
            "Enter col: 2\n",
            "['O', 'O', 'X']\n",
            "['O', 'X', 'X']\n",
            "['_', '_', 'X']\n",
            "Player X has won!\n"
          ]
        }
      ],
      "source": [
        "x = 'X'\n",
        "o = 'O'\n",
        "empty = '_'\n",
        "\n",
        "empty_row = [empty, empty, empty]\n",
        "board0 = [empty_row, empty_row, empty_row]\n",
        "\n",
        "board1 = [[x, empty, o], [empty, x, o], [x, empty, empty]]\n",
        "board2 = [[x, empty, o], [empty, x, o], [o, empty, x]]\n",
        "\n",
        "def has_won(board, player):\n",
        "    # Check rows\n",
        "    for row in board:\n",
        "        if all(val == player for val in row):\n",
        "            return True\n",
        "    \n",
        "    # Check columns\n",
        "    for col in range(3):\n",
        "        if all(row[col] == player for row in board):\n",
        "            return True\n",
        "    \n",
        "    # Check diagonals\n",
        "    if board[0][0] == player and board[1][1] == player and board[2][2] == player:\n",
        "        return True\n",
        "    if board[0][2] == player and board[1][1] == player and board[2][0] == player:\n",
        "        return True\n",
        "    \n",
        "    return False\n",
        "\n",
        "assert(has_won(board0, x) == False)\n",
        "assert(has_won(board1, o) == False)\n",
        "assert(has_won(board2, x) == True)\n",
        "\n",
        "def tic_tac_toe():\n",
        "    board = [empty_row[:] for i in range(3)]\n",
        "    current_player = x\n",
        "    while True:\n",
        "        for row in board:\n",
        "            print(row)\n",
        "        print(\"Player {}'s turn\".format(current_player))\n",
        "        row = int(input(\"Enter row: \"))\n",
        "        col = int(input(\"Enter col: \"))\n",
        "        if board[row][col] != empty:\n",
        "            print(\"That position is already taken. Try again.\")\n",
        "            continue\n",
        "        board[row][col] = current_player\n",
        "        if has_won(board, current_player):\n",
        "            for row in board:\n",
        "                print(row)\n",
        "            print(\"Player {} has won!\".format(current_player))\n",
        "            return\n",
        "        if all(all(val != empty for val in row) for row in board):\n",
        "            print(\"The game is a draw.\")\n",
        "            return\n",
        "        if current_player == x:\n",
        "            current_player = o\n",
        "        else:\n",
        "            current_player = x\n",
        "\n",
        "tic_tac_toe()"
      ]
    },
    {
      "cell_type": "markdown",
      "metadata": {
        "id": "dKL0LYd-E4JB"
      },
      "source": [
        "### (Optional) Reflections\n",
        "Add a text cell below to answer the following questions:\n",
        "1. What do you feel more confident about after completing this lab?\n",
        "2. What do you feel you can use more help with after completing this lab?\n",
        "3. Do you have any constructive suggestions on how we can help you or improve this lab?"
      ]
    },
    {
      "cell_type": "markdown",
      "metadata": {
        "id": "gB1aHDpyFYey"
      },
      "source": [
        "### Save your work to GitHub\n",
        "Please save this notebook to your lab repository."
      ]
    },
    {
      "cell_type": "markdown",
      "metadata": {
        "id": "ke4X5r9l3xgv"
      },
      "source": [
        "### Citation\n",
        "These exercises were adapted from pages 256 and 260 in the following book:\n",
        "Ana Bell. 2018. Get Programming: Learn to code with Python. Manning, Shelter Island, NY. "
      ]
    }
  ],
  "metadata": {
    "kernelspec": {
      "display_name": "Python 3",
      "language": "python",
      "name": "python3"
    },
    "language_info": {
      "codemirror_mode": {
        "name": "ipython",
        "version": 3
      },
      "file_extension": ".py",
      "mimetype": "text/x-python",
      "name": "python",
      "nbconvert_exporter": "python",
      "pygments_lexer": "ipython3",
      "version": "3.8.5"
    },
    "colab": {
      "provenance": []
    }
  },
  "nbformat": 4,
  "nbformat_minor": 0
}